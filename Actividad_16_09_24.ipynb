{
  "nbformat": 4,
  "nbformat_minor": 0,
  "metadata": {
    "colab": {
      "provenance": [],
      "mount_file_id": "1GKIdrp8EZQvqlCIehnIMi5OOcPCls6SO",
      "authorship_tag": "ABX9TyPWkHPlLUXsKhT49lF42/3l",
      "include_colab_link": true
    },
    "kernelspec": {
      "name": "python3",
      "display_name": "Python 3"
    },
    "language_info": {
      "name": "python"
    }
  },
  "cells": [
    {
      "cell_type": "markdown",
      "metadata": {
        "id": "view-in-github",
        "colab_type": "text"
      },
      "source": [
        "<a href=\"https://colab.research.google.com/github/Daniel170-siu/CIENCIA_DATOS/blob/main/Actividad_16_09_24.ipynb\" target=\"_parent\"><img src=\"https://colab.research.google.com/assets/colab-badge.svg\" alt=\"Open In Colab\"/></a>"
      ]
    },
    {
      "cell_type": "code",
      "source": [
        "#Instalando libreiras\n",
        "!pip install statsmodels"
      ],
      "metadata": {
        "colab": {
          "base_uri": "https://localhost:8080/"
        },
        "id": "laV2t5h7o_gN",
        "outputId": "5fcbf263-ffc8-4fd4-ba69-8bbf21c78332"
      },
      "execution_count": 4,
      "outputs": [
        {
          "output_type": "stream",
          "name": "stdout",
          "text": [
            "Requirement already satisfied: statsmodels in /usr/local/lib/python3.10/dist-packages (0.14.2)\n",
            "Requirement already satisfied: numpy>=1.22.3 in /usr/local/lib/python3.10/dist-packages (from statsmodels) (1.26.4)\n",
            "Requirement already satisfied: scipy!=1.9.2,>=1.8 in /usr/local/lib/python3.10/dist-packages (from statsmodels) (1.13.1)\n",
            "Requirement already satisfied: pandas!=2.1.0,>=1.4 in /usr/local/lib/python3.10/dist-packages (from statsmodels) (2.1.4)\n",
            "Requirement already satisfied: patsy>=0.5.6 in /usr/local/lib/python3.10/dist-packages (from statsmodels) (0.5.6)\n",
            "Requirement already satisfied: packaging>=21.3 in /usr/local/lib/python3.10/dist-packages (from statsmodels) (24.1)\n",
            "Requirement already satisfied: python-dateutil>=2.8.2 in /usr/local/lib/python3.10/dist-packages (from pandas!=2.1.0,>=1.4->statsmodels) (2.8.2)\n",
            "Requirement already satisfied: pytz>=2020.1 in /usr/local/lib/python3.10/dist-packages (from pandas!=2.1.0,>=1.4->statsmodels) (2024.2)\n",
            "Requirement already satisfied: tzdata>=2022.1 in /usr/local/lib/python3.10/dist-packages (from pandas!=2.1.0,>=1.4->statsmodels) (2024.1)\n",
            "Requirement already satisfied: six in /usr/local/lib/python3.10/dist-packages (from patsy>=0.5.6->statsmodels) (1.16.0)\n"
          ]
        }
      ]
    },
    {
      "cell_type": "code",
      "source": [
        "!pip install wquantiles"
      ],
      "metadata": {
        "colab": {
          "base_uri": "https://localhost:8080/"
        },
        "id": "1h-F0OjZpE83",
        "outputId": "290ab59c-0af2-4d79-abe7-c72218d7111d"
      },
      "execution_count": 5,
      "outputs": [
        {
          "output_type": "stream",
          "name": "stdout",
          "text": [
            "Collecting wquantiles\n",
            "  Downloading wquantiles-0.6-py3-none-any.whl.metadata (1.1 kB)\n",
            "Requirement already satisfied: numpy>=1.18 in /usr/local/lib/python3.10/dist-packages (from wquantiles) (1.26.4)\n",
            "Downloading wquantiles-0.6-py3-none-any.whl (3.3 kB)\n",
            "Installing collected packages: wquantiles\n",
            "Successfully installed wquantiles-0.6\n"
          ]
        }
      ]
    },
    {
      "cell_type": "code",
      "source": [
        "import pandas as pd #Manipulacion y analisis de datos\n",
        "import numpy as np #Calculos matematicos\n",
        "from scipy.stats import trim_mean\n",
        "from statsmodels import robust\n",
        "import wquantiles\n",
        "import seaborn as sns #graficas bonitas\n",
        "import matplotlib.pyplot as plt #graficas"
      ],
      "metadata": {
        "id": "BKh880UFpJ3G"
      },
      "execution_count": 6,
      "outputs": []
    },
    {
      "cell_type": "code",
      "execution_count": 1,
      "metadata": {
        "colab": {
          "base_uri": "https://localhost:8080/"
        },
        "id": "TNHfA0-5noH-",
        "outputId": "a9accb5c-a531-47d7-ca5e-6cf251efc4bc"
      },
      "outputs": [
        {
          "output_type": "stream",
          "name": "stdout",
          "text": [
            "Mounted at /content/drive\n"
          ]
        }
      ],
      "source": [
        "#Consiguiendo el dataset directamente desde google drive. Para ello,\n",
        "#se debe dar permisos a colab de ingresar a google drive\n",
        "from google.colab import drive\n",
        "drive.mount('/content/drive')"
      ]
    },
    {
      "cell_type": "code",
      "source": [
        "data=pd.read_csv(\"/content/drive/MyDrive/Colab Notebooks/Ciencia de datos/base_aviacion_1.csv\")"
      ],
      "metadata": {
        "id": "R0EGBxFtoVCm"
      },
      "execution_count": 7,
      "outputs": []
    },
    {
      "cell_type": "code",
      "source": [
        "data.head()"
      ],
      "metadata": {
        "colab": {
          "base_uri": "https://localhost:8080/",
          "height": 226
        },
        "id": "Ht5oyfkEpQEr",
        "outputId": "44a06bd0-bc1f-49a2-e353-c8e7984adc19"
      },
      "execution_count": 8,
      "outputs": [
        {
          "output_type": "execute_result",
          "data": {
            "text/plain": [
              "   userid  gender bookingchannel cabinclass  complaints  flightdistance_new  \\\n",
              "0       1    Male          Phone   Business           0                 825   \n",
              "1       2    Male         Online      First           9                1843   \n",
              "2       3  Female         Agency      First           2                5465   \n",
              "3       4  Female          Phone      First           3                4448   \n",
              "4       5    Male         Agency   Business           2                 817   \n",
              "\n",
              "   ticketprice_new  departuretime_new  arrivaltime_new  flightduration_new  \\\n",
              "0              598                  7               16                  52   \n",
              "1             2211                  1               15                 590   \n",
              "2              631                 12               20                 573   \n",
              "3              995                 13               21                1161   \n",
              "4             1284                 10               17                  28   \n",
              "\n",
              "   age_new  \n",
              "0       24  \n",
              "1       60  \n",
              "2       47  \n",
              "3       38  \n",
              "4       10  "
            ],
            "text/html": [
              "\n",
              "  <div id=\"df-9b12b93e-2dfb-4951-a962-45aae808dc14\" class=\"colab-df-container\">\n",
              "    <div>\n",
              "<style scoped>\n",
              "    .dataframe tbody tr th:only-of-type {\n",
              "        vertical-align: middle;\n",
              "    }\n",
              "\n",
              "    .dataframe tbody tr th {\n",
              "        vertical-align: top;\n",
              "    }\n",
              "\n",
              "    .dataframe thead th {\n",
              "        text-align: right;\n",
              "    }\n",
              "</style>\n",
              "<table border=\"1\" class=\"dataframe\">\n",
              "  <thead>\n",
              "    <tr style=\"text-align: right;\">\n",
              "      <th></th>\n",
              "      <th>userid</th>\n",
              "      <th>gender</th>\n",
              "      <th>bookingchannel</th>\n",
              "      <th>cabinclass</th>\n",
              "      <th>complaints</th>\n",
              "      <th>flightdistance_new</th>\n",
              "      <th>ticketprice_new</th>\n",
              "      <th>departuretime_new</th>\n",
              "      <th>arrivaltime_new</th>\n",
              "      <th>flightduration_new</th>\n",
              "      <th>age_new</th>\n",
              "    </tr>\n",
              "  </thead>\n",
              "  <tbody>\n",
              "    <tr>\n",
              "      <th>0</th>\n",
              "      <td>1</td>\n",
              "      <td>Male</td>\n",
              "      <td>Phone</td>\n",
              "      <td>Business</td>\n",
              "      <td>0</td>\n",
              "      <td>825</td>\n",
              "      <td>598</td>\n",
              "      <td>7</td>\n",
              "      <td>16</td>\n",
              "      <td>52</td>\n",
              "      <td>24</td>\n",
              "    </tr>\n",
              "    <tr>\n",
              "      <th>1</th>\n",
              "      <td>2</td>\n",
              "      <td>Male</td>\n",
              "      <td>Online</td>\n",
              "      <td>First</td>\n",
              "      <td>9</td>\n",
              "      <td>1843</td>\n",
              "      <td>2211</td>\n",
              "      <td>1</td>\n",
              "      <td>15</td>\n",
              "      <td>590</td>\n",
              "      <td>60</td>\n",
              "    </tr>\n",
              "    <tr>\n",
              "      <th>2</th>\n",
              "      <td>3</td>\n",
              "      <td>Female</td>\n",
              "      <td>Agency</td>\n",
              "      <td>First</td>\n",
              "      <td>2</td>\n",
              "      <td>5465</td>\n",
              "      <td>631</td>\n",
              "      <td>12</td>\n",
              "      <td>20</td>\n",
              "      <td>573</td>\n",
              "      <td>47</td>\n",
              "    </tr>\n",
              "    <tr>\n",
              "      <th>3</th>\n",
              "      <td>4</td>\n",
              "      <td>Female</td>\n",
              "      <td>Phone</td>\n",
              "      <td>First</td>\n",
              "      <td>3</td>\n",
              "      <td>4448</td>\n",
              "      <td>995</td>\n",
              "      <td>13</td>\n",
              "      <td>21</td>\n",
              "      <td>1161</td>\n",
              "      <td>38</td>\n",
              "    </tr>\n",
              "    <tr>\n",
              "      <th>4</th>\n",
              "      <td>5</td>\n",
              "      <td>Male</td>\n",
              "      <td>Agency</td>\n",
              "      <td>Business</td>\n",
              "      <td>2</td>\n",
              "      <td>817</td>\n",
              "      <td>1284</td>\n",
              "      <td>10</td>\n",
              "      <td>17</td>\n",
              "      <td>28</td>\n",
              "      <td>10</td>\n",
              "    </tr>\n",
              "  </tbody>\n",
              "</table>\n",
              "</div>\n",
              "    <div class=\"colab-df-buttons\">\n",
              "\n",
              "  <div class=\"colab-df-container\">\n",
              "    <button class=\"colab-df-convert\" onclick=\"convertToInteractive('df-9b12b93e-2dfb-4951-a962-45aae808dc14')\"\n",
              "            title=\"Convert this dataframe to an interactive table.\"\n",
              "            style=\"display:none;\">\n",
              "\n",
              "  <svg xmlns=\"http://www.w3.org/2000/svg\" height=\"24px\" viewBox=\"0 -960 960 960\">\n",
              "    <path d=\"M120-120v-720h720v720H120Zm60-500h600v-160H180v160Zm220 220h160v-160H400v160Zm0 220h160v-160H400v160ZM180-400h160v-160H180v160Zm440 0h160v-160H620v160ZM180-180h160v-160H180v160Zm440 0h160v-160H620v160Z\"/>\n",
              "  </svg>\n",
              "    </button>\n",
              "\n",
              "  <style>\n",
              "    .colab-df-container {\n",
              "      display:flex;\n",
              "      gap: 12px;\n",
              "    }\n",
              "\n",
              "    .colab-df-convert {\n",
              "      background-color: #E8F0FE;\n",
              "      border: none;\n",
              "      border-radius: 50%;\n",
              "      cursor: pointer;\n",
              "      display: none;\n",
              "      fill: #1967D2;\n",
              "      height: 32px;\n",
              "      padding: 0 0 0 0;\n",
              "      width: 32px;\n",
              "    }\n",
              "\n",
              "    .colab-df-convert:hover {\n",
              "      background-color: #E2EBFA;\n",
              "      box-shadow: 0px 1px 2px rgba(60, 64, 67, 0.3), 0px 1px 3px 1px rgba(60, 64, 67, 0.15);\n",
              "      fill: #174EA6;\n",
              "    }\n",
              "\n",
              "    .colab-df-buttons div {\n",
              "      margin-bottom: 4px;\n",
              "    }\n",
              "\n",
              "    [theme=dark] .colab-df-convert {\n",
              "      background-color: #3B4455;\n",
              "      fill: #D2E3FC;\n",
              "    }\n",
              "\n",
              "    [theme=dark] .colab-df-convert:hover {\n",
              "      background-color: #434B5C;\n",
              "      box-shadow: 0px 1px 3px 1px rgba(0, 0, 0, 0.15);\n",
              "      filter: drop-shadow(0px 1px 2px rgba(0, 0, 0, 0.3));\n",
              "      fill: #FFFFFF;\n",
              "    }\n",
              "  </style>\n",
              "\n",
              "    <script>\n",
              "      const buttonEl =\n",
              "        document.querySelector('#df-9b12b93e-2dfb-4951-a962-45aae808dc14 button.colab-df-convert');\n",
              "      buttonEl.style.display =\n",
              "        google.colab.kernel.accessAllowed ? 'block' : 'none';\n",
              "\n",
              "      async function convertToInteractive(key) {\n",
              "        const element = document.querySelector('#df-9b12b93e-2dfb-4951-a962-45aae808dc14');\n",
              "        const dataTable =\n",
              "          await google.colab.kernel.invokeFunction('convertToInteractive',\n",
              "                                                    [key], {});\n",
              "        if (!dataTable) return;\n",
              "\n",
              "        const docLinkHtml = 'Like what you see? Visit the ' +\n",
              "          '<a target=\"_blank\" href=https://colab.research.google.com/notebooks/data_table.ipynb>data table notebook</a>'\n",
              "          + ' to learn more about interactive tables.';\n",
              "        element.innerHTML = '';\n",
              "        dataTable['output_type'] = 'display_data';\n",
              "        await google.colab.output.renderOutput(dataTable, element);\n",
              "        const docLink = document.createElement('div');\n",
              "        docLink.innerHTML = docLinkHtml;\n",
              "        element.appendChild(docLink);\n",
              "      }\n",
              "    </script>\n",
              "  </div>\n",
              "\n",
              "\n",
              "<div id=\"df-40fc2c31-da7d-4c0e-838b-b87eb9a8ff17\">\n",
              "  <button class=\"colab-df-quickchart\" onclick=\"quickchart('df-40fc2c31-da7d-4c0e-838b-b87eb9a8ff17')\"\n",
              "            title=\"Suggest charts\"\n",
              "            style=\"display:none;\">\n",
              "\n",
              "<svg xmlns=\"http://www.w3.org/2000/svg\" height=\"24px\"viewBox=\"0 0 24 24\"\n",
              "     width=\"24px\">\n",
              "    <g>\n",
              "        <path d=\"M19 3H5c-1.1 0-2 .9-2 2v14c0 1.1.9 2 2 2h14c1.1 0 2-.9 2-2V5c0-1.1-.9-2-2-2zM9 17H7v-7h2v7zm4 0h-2V7h2v10zm4 0h-2v-4h2v4z\"/>\n",
              "    </g>\n",
              "</svg>\n",
              "  </button>\n",
              "\n",
              "<style>\n",
              "  .colab-df-quickchart {\n",
              "      --bg-color: #E8F0FE;\n",
              "      --fill-color: #1967D2;\n",
              "      --hover-bg-color: #E2EBFA;\n",
              "      --hover-fill-color: #174EA6;\n",
              "      --disabled-fill-color: #AAA;\n",
              "      --disabled-bg-color: #DDD;\n",
              "  }\n",
              "\n",
              "  [theme=dark] .colab-df-quickchart {\n",
              "      --bg-color: #3B4455;\n",
              "      --fill-color: #D2E3FC;\n",
              "      --hover-bg-color: #434B5C;\n",
              "      --hover-fill-color: #FFFFFF;\n",
              "      --disabled-bg-color: #3B4455;\n",
              "      --disabled-fill-color: #666;\n",
              "  }\n",
              "\n",
              "  .colab-df-quickchart {\n",
              "    background-color: var(--bg-color);\n",
              "    border: none;\n",
              "    border-radius: 50%;\n",
              "    cursor: pointer;\n",
              "    display: none;\n",
              "    fill: var(--fill-color);\n",
              "    height: 32px;\n",
              "    padding: 0;\n",
              "    width: 32px;\n",
              "  }\n",
              "\n",
              "  .colab-df-quickchart:hover {\n",
              "    background-color: var(--hover-bg-color);\n",
              "    box-shadow: 0 1px 2px rgba(60, 64, 67, 0.3), 0 1px 3px 1px rgba(60, 64, 67, 0.15);\n",
              "    fill: var(--button-hover-fill-color);\n",
              "  }\n",
              "\n",
              "  .colab-df-quickchart-complete:disabled,\n",
              "  .colab-df-quickchart-complete:disabled:hover {\n",
              "    background-color: var(--disabled-bg-color);\n",
              "    fill: var(--disabled-fill-color);\n",
              "    box-shadow: none;\n",
              "  }\n",
              "\n",
              "  .colab-df-spinner {\n",
              "    border: 2px solid var(--fill-color);\n",
              "    border-color: transparent;\n",
              "    border-bottom-color: var(--fill-color);\n",
              "    animation:\n",
              "      spin 1s steps(1) infinite;\n",
              "  }\n",
              "\n",
              "  @keyframes spin {\n",
              "    0% {\n",
              "      border-color: transparent;\n",
              "      border-bottom-color: var(--fill-color);\n",
              "      border-left-color: var(--fill-color);\n",
              "    }\n",
              "    20% {\n",
              "      border-color: transparent;\n",
              "      border-left-color: var(--fill-color);\n",
              "      border-top-color: var(--fill-color);\n",
              "    }\n",
              "    30% {\n",
              "      border-color: transparent;\n",
              "      border-left-color: var(--fill-color);\n",
              "      border-top-color: var(--fill-color);\n",
              "      border-right-color: var(--fill-color);\n",
              "    }\n",
              "    40% {\n",
              "      border-color: transparent;\n",
              "      border-right-color: var(--fill-color);\n",
              "      border-top-color: var(--fill-color);\n",
              "    }\n",
              "    60% {\n",
              "      border-color: transparent;\n",
              "      border-right-color: var(--fill-color);\n",
              "    }\n",
              "    80% {\n",
              "      border-color: transparent;\n",
              "      border-right-color: var(--fill-color);\n",
              "      border-bottom-color: var(--fill-color);\n",
              "    }\n",
              "    90% {\n",
              "      border-color: transparent;\n",
              "      border-bottom-color: var(--fill-color);\n",
              "    }\n",
              "  }\n",
              "</style>\n",
              "\n",
              "  <script>\n",
              "    async function quickchart(key) {\n",
              "      const quickchartButtonEl =\n",
              "        document.querySelector('#' + key + ' button');\n",
              "      quickchartButtonEl.disabled = true;  // To prevent multiple clicks.\n",
              "      quickchartButtonEl.classList.add('colab-df-spinner');\n",
              "      try {\n",
              "        const charts = await google.colab.kernel.invokeFunction(\n",
              "            'suggestCharts', [key], {});\n",
              "      } catch (error) {\n",
              "        console.error('Error during call to suggestCharts:', error);\n",
              "      }\n",
              "      quickchartButtonEl.classList.remove('colab-df-spinner');\n",
              "      quickchartButtonEl.classList.add('colab-df-quickchart-complete');\n",
              "    }\n",
              "    (() => {\n",
              "      let quickchartButtonEl =\n",
              "        document.querySelector('#df-40fc2c31-da7d-4c0e-838b-b87eb9a8ff17 button');\n",
              "      quickchartButtonEl.style.display =\n",
              "        google.colab.kernel.accessAllowed ? 'block' : 'none';\n",
              "    })();\n",
              "  </script>\n",
              "</div>\n",
              "\n",
              "    </div>\n",
              "  </div>\n"
            ],
            "application/vnd.google.colaboratory.intrinsic+json": {
              "type": "dataframe",
              "variable_name": "data",
              "summary": "{\n  \"name\": \"data\",\n  \"rows\": 50,\n  \"fields\": [\n    {\n      \"column\": \"userid\",\n      \"properties\": {\n        \"dtype\": \"number\",\n        \"std\": 14,\n        \"min\": 1,\n        \"max\": 50,\n        \"num_unique_values\": 50,\n        \"samples\": [\n          14,\n          40,\n          31\n        ],\n        \"semantic_type\": \"\",\n        \"description\": \"\"\n      }\n    },\n    {\n      \"column\": \"gender\",\n      \"properties\": {\n        \"dtype\": \"category\",\n        \"num_unique_values\": 2,\n        \"samples\": [\n          \"Female\",\n          \"Male\"\n        ],\n        \"semantic_type\": \"\",\n        \"description\": \"\"\n      }\n    },\n    {\n      \"column\": \"bookingchannel\",\n      \"properties\": {\n        \"dtype\": \"category\",\n        \"num_unique_values\": 3,\n        \"samples\": [\n          \"Phone\",\n          \"Online\"\n        ],\n        \"semantic_type\": \"\",\n        \"description\": \"\"\n      }\n    },\n    {\n      \"column\": \"cabinclass\",\n      \"properties\": {\n        \"dtype\": \"category\",\n        \"num_unique_values\": 4,\n        \"samples\": [\n          \"First\",\n          \"first\"\n        ],\n        \"semantic_type\": \"\",\n        \"description\": \"\"\n      }\n    },\n    {\n      \"column\": \"complaints\",\n      \"properties\": {\n        \"dtype\": \"number\",\n        \"std\": 3,\n        \"min\": 0,\n        \"max\": 10,\n        \"num_unique_values\": 11,\n        \"samples\": [\n          8,\n          0\n        ],\n        \"semantic_type\": \"\",\n        \"description\": \"\"\n      }\n    },\n    {\n      \"column\": \"flightdistance_new\",\n      \"properties\": {\n        \"dtype\": \"number\",\n        \"std\": 1446,\n        \"min\": 250,\n        \"max\": 5499,\n        \"num_unique_values\": 49,\n        \"samples\": [\n          691,\n          3535\n        ],\n        \"semantic_type\": \"\",\n        \"description\": \"\"\n      }\n    },\n    {\n      \"column\": \"ticketprice_new\",\n      \"properties\": {\n        \"dtype\": \"number\",\n        \"std\": 563,\n        \"min\": 46,\n        \"max\": 2211,\n        \"num_unique_values\": 49,\n        \"samples\": [\n          963,\n          1899\n        ],\n        \"semantic_type\": \"\",\n        \"description\": \"\"\n      }\n    },\n    {\n      \"column\": \"departuretime_new\",\n      \"properties\": {\n        \"dtype\": \"number\",\n        \"std\": 6,\n        \"min\": 1,\n        \"max\": 24,\n        \"num_unique_values\": 23,\n        \"samples\": [\n          9,\n          4\n        ],\n        \"semantic_type\": \"\",\n        \"description\": \"\"\n      }\n    },\n    {\n      \"column\": \"arrivaltime_new\",\n      \"properties\": {\n        \"dtype\": \"number\",\n        \"std\": 6,\n        \"min\": 1,\n        \"max\": 24,\n        \"num_unique_values\": 21,\n        \"samples\": [\n          16,\n          3\n        ],\n        \"semantic_type\": \"\",\n        \"description\": \"\"\n      }\n    },\n    {\n      \"column\": \"flightduration_new\",\n      \"properties\": {\n        \"dtype\": \"number\",\n        \"std\": 359,\n        \"min\": 7,\n        \"max\": 1161,\n        \"num_unique_values\": 49,\n        \"samples\": [\n          309,\n          822\n        ],\n        \"semantic_type\": \"\",\n        \"description\": \"\"\n      }\n    },\n    {\n      \"column\": \"age_new\",\n      \"properties\": {\n        \"dtype\": \"number\",\n        \"std\": 18,\n        \"min\": 2,\n        \"max\": 62,\n        \"num_unique_values\": 36,\n        \"samples\": [\n          35,\n          20\n        ],\n        \"semantic_type\": \"\",\n        \"description\": \"\"\n      }\n    }\n  ]\n}"
            }
          },
          "metadata": {},
          "execution_count": 8
        }
      ]
    },
    {
      "cell_type": "code",
      "source": [
        "#Generando cálculos de desviación estándar y cuantiles\n",
        "data[\"flightdistance_new\"].std()"
      ],
      "metadata": {
        "colab": {
          "base_uri": "https://localhost:8080/"
        },
        "id": "ASRweKT6pXGN",
        "outputId": "89443991-282b-43ca-a66d-7ab8b8f06ac3"
      },
      "execution_count": 10,
      "outputs": [
        {
          "output_type": "execute_result",
          "data": {
            "text/plain": [
              "1446.0604990590039"
            ]
          },
          "metadata": {},
          "execution_count": 10
        }
      ]
    },
    {
      "cell_type": "code",
      "source": [
        "#Calculando IQR\n",
        "data.flightdistance_new.quantile(0.75)-data.flightdistance_new.quantile(0.25)"
      ],
      "metadata": {
        "colab": {
          "base_uri": "https://localhost:8080/"
        },
        "id": "2Zzdqwasq_Do",
        "outputId": "2a13291b-7b9c-4a91-9110-daf283c19864"
      },
      "execution_count": 14,
      "outputs": [
        {
          "output_type": "execute_result",
          "data": {
            "text/plain": [
              "2030.0"
            ]
          },
          "metadata": {},
          "execution_count": 14
        }
      ]
    },
    {
      "cell_type": "code",
      "source": [
        "robust.scale.mad(data[\"flightdistance_new\"])"
      ],
      "metadata": {
        "colab": {
          "base_uri": "https://localhost:8080/"
        },
        "id": "61yYqKITroSJ",
        "outputId": "a37763d0-d2f4-4f98-be16-7ce3eda7b6ac"
      },
      "execution_count": 16,
      "outputs": [
        {
          "output_type": "execute_result",
          "data": {
            "text/plain": [
              "1676.081808020583"
            ]
          },
          "metadata": {},
          "execution_count": 16
        }
      ]
    },
    {
      "cell_type": "markdown",
      "source": [
        "#EXPLORACIÓN EN LA DISTRIBUCIÓN DE DATOS\n",
        "\n",
        "En este apartado se explorará:\n",
        "###1. Diagrama de caja: Visibilización rápida de la distribución de datos.\n",
        "###2. Diagrama de frecuencias: Registro de recuento de valores de datos numéricos que caen en un conjunto de intervalos.\n",
        "###3. Histograma: Diagrama de la tabla de frecuencias con los intervalos en el eje x y el recuento (o proporción) en el eje y.\n",
        "###4. Diagrama de densidad: Versión suavizada del histograma. A menudo basada en una **estimación de la densidad del núcleo (kernel density estimate**)."
      ],
      "metadata": {
        "id": "7HHK02EqsAPo"
      }
    },
    {
      "cell_type": "code",
      "source": [
        "#Calculando percentiles de la tasa de edad\n",
        "data[\"age_new\"].quantile([0.05, 0.25, 0.5, 0.75, 0.95])"
      ],
      "metadata": {
        "colab": {
          "base_uri": "https://localhost:8080/",
          "height": 241
        },
        "id": "-JPLOWC9sCeX",
        "outputId": "c3935102-17bf-47c4-84b3-ff1a064ad2c3"
      },
      "execution_count": 17,
      "outputs": [
        {
          "output_type": "execute_result",
          "data": {
            "text/plain": [
              "0.05     3.45\n",
              "0.25    12.00\n",
              "0.50    28.00\n",
              "0.75    41.25\n",
              "0.95    60.00\n",
              "Name: age_new, dtype: float64"
            ],
            "text/html": [
              "<div>\n",
              "<style scoped>\n",
              "    .dataframe tbody tr th:only-of-type {\n",
              "        vertical-align: middle;\n",
              "    }\n",
              "\n",
              "    .dataframe tbody tr th {\n",
              "        vertical-align: top;\n",
              "    }\n",
              "\n",
              "    .dataframe thead th {\n",
              "        text-align: right;\n",
              "    }\n",
              "</style>\n",
              "<table border=\"1\" class=\"dataframe\">\n",
              "  <thead>\n",
              "    <tr style=\"text-align: right;\">\n",
              "      <th></th>\n",
              "      <th>age_new</th>\n",
              "    </tr>\n",
              "  </thead>\n",
              "  <tbody>\n",
              "    <tr>\n",
              "      <th>0.05</th>\n",
              "      <td>3.45</td>\n",
              "    </tr>\n",
              "    <tr>\n",
              "      <th>0.25</th>\n",
              "      <td>12.00</td>\n",
              "    </tr>\n",
              "    <tr>\n",
              "      <th>0.50</th>\n",
              "      <td>28.00</td>\n",
              "    </tr>\n",
              "    <tr>\n",
              "      <th>0.75</th>\n",
              "      <td>41.25</td>\n",
              "    </tr>\n",
              "    <tr>\n",
              "      <th>0.95</th>\n",
              "      <td>60.00</td>\n",
              "    </tr>\n",
              "  </tbody>\n",
              "</table>\n",
              "</div><br><label><b>dtype:</b> float64</label>"
            ]
          },
          "metadata": {},
          "execution_count": 17
        }
      ]
    },
    {
      "cell_type": "code",
      "source": [
        "#Dibujando diagramas de caja\n",
        "ax = (data.flightdistance_new/1_000).plot.box(figsize=(2,4))\n",
        "ax.set_ylabel(\"flightdistance miles\")"
      ],
      "metadata": {
        "colab": {
          "base_uri": "https://localhost:8080/",
          "height": 385
        },
        "id": "x2kEp94VsgE9",
        "outputId": "20a55758-a381-4421-8170-b6143ad3654c"
      },
      "execution_count": 21,
      "outputs": [
        {
          "output_type": "execute_result",
          "data": {
            "text/plain": [
              "Text(0, 0.5, 'flightdistance miles')"
            ]
          },
          "metadata": {},
          "execution_count": 21
        },
        {
          "output_type": "display_data",
          "data": {
            "text/plain": [
              "<Figure size 200x400 with 1 Axes>"
            ],
            "image/png": "[encoded data removed]"
          },
          "metadata": {}
        }
      ]
    },
    {
      "cell_type": "code",
      "source": [
        "#Calculando la tabla de frecuencias e histogramas\n",
        "binnedflightdistance_new=pd.cut(data[\"flightdistance_new\"],10)\n",
        "binnedflightdistance_new.value_counts()"
      ],
      "metadata": {
        "colab": {
          "base_uri": "https://localhost:8080/",
          "height": 429
        },
        "id": "VRkKoo3ps9IV",
        "outputId": "b1a8aeb5-a86c-4e78-a0fa-97db004797bd"
      },
      "execution_count": 22,
      "outputs": [
        {
          "output_type": "execute_result",
          "data": {
            "text/plain": [
              "flightdistance_new\n",
              "(774.9, 1299.8]     7\n",
              "(2349.6, 2874.5]    7\n",
              "(2874.5, 3399.4]    7\n",
              "(4974.1, 5499.0]    6\n",
              "(1299.8, 1824.7]    5\n",
              "(1824.7, 2349.6]    5\n",
              "(3399.4, 3924.3]    5\n",
              "(244.751, 774.9]    3\n",
              "(3924.3, 4449.2]    3\n",
              "(4449.2, 4974.1]    2\n",
              "Name: count, dtype: int64"
            ],
            "text/html": [
              "<div>\n",
              "<style scoped>\n",
              "    .dataframe tbody tr th:only-of-type {\n",
              "        vertical-align: middle;\n",
              "    }\n",
              "\n",
              "    .dataframe tbody tr th {\n",
              "        vertical-align: top;\n",
              "    }\n",
              "\n",
              "    .dataframe thead th {\n",
              "        text-align: right;\n",
              "    }\n",
              "</style>\n",
              "<table border=\"1\" class=\"dataframe\">\n",
              "  <thead>\n",
              "    <tr style=\"text-align: right;\">\n",
              "      <th></th>\n",
              "      <th>count</th>\n",
              "    </tr>\n",
              "    <tr>\n",
              "      <th>flightdistance_new</th>\n",
              "      <th></th>\n",
              "    </tr>\n",
              "  </thead>\n",
              "  <tbody>\n",
              "    <tr>\n",
              "      <th>(774.9, 1299.8]</th>\n",
              "      <td>7</td>\n",
              "    </tr>\n",
              "    <tr>\n",
              "      <th>(2349.6, 2874.5]</th>\n",
              "      <td>7</td>\n",
              "    </tr>\n",
              "    <tr>\n",
              "      <th>(2874.5, 3399.4]</th>\n",
              "      <td>7</td>\n",
              "    </tr>\n",
              "    <tr>\n",
              "      <th>(4974.1, 5499.0]</th>\n",
              "      <td>6</td>\n",
              "    </tr>\n",
              "    <tr>\n",
              "      <th>(1299.8, 1824.7]</th>\n",
              "      <td>5</td>\n",
              "    </tr>\n",
              "    <tr>\n",
              "      <th>(1824.7, 2349.6]</th>\n",
              "      <td>5</td>\n",
              "    </tr>\n",
              "    <tr>\n",
              "      <th>(3399.4, 3924.3]</th>\n",
              "      <td>5</td>\n",
              "    </tr>\n",
              "    <tr>\n",
              "      <th>(244.751, 774.9]</th>\n",
              "      <td>3</td>\n",
              "    </tr>\n",
              "    <tr>\n",
              "      <th>(3924.3, 4449.2]</th>\n",
              "      <td>3</td>\n",
              "    </tr>\n",
              "    <tr>\n",
              "      <th>(4449.2, 4974.1]</th>\n",
              "      <td>2</td>\n",
              "    </tr>\n",
              "  </tbody>\n",
              "</table>\n",
              "</div><br><label><b>dtype:</b> int64</label>"
            ]
          },
          "metadata": {},
          "execution_count": 22
        }
      ]
    },
    {
      "cell_type": "code",
      "source": [
        "#Histograma de la distancia de vuelo:\n",
        "ax = (data.flightdistance_new/1_000).plot.hist(figsize=(4,4))\n",
        "ax.set_ylabel(\"flightdistance miles\")"
      ],
      "metadata": {
        "colab": {
          "base_uri": "https://localhost:8080/",
          "height": 385
        },
        "id": "bfHv7ZCatW31",
        "outputId": "d871cad5-8cd1-4f94-efba-28fd0f6f02b5"
      },
      "execution_count": 24,
      "outputs": [
        {
          "output_type": "execute_result",
          "data": {
            "text/plain": [
              "Text(0, 0.5, 'flightdistance miles')"
            ]
          },
          "metadata": {},
          "execution_count": 24
        },
        {
          "output_type": "display_data",
          "data": {
            "text/plain": [
              "<Figure size 400x400 with 1 Axes>"
            ],
            "image/png": "[encoded data removed]"
          },
          "metadata": {}
        }
      ]
    },
    {
      "cell_type": "code",
      "source": [
        "#Diagrama de dispersión y curva de densidad\n",
        "ax=data[\"age_new\"].plot.hist(density=True,xlim=[0,65],bins=range(1,70))\n",
        "data[\"age_new\"].plot.density(ax=ax)\n",
        "ax.set_xlabel(\"edad\")"
      ],
      "metadata": {
        "colab": {
          "base_uri": "https://localhost:8080/",
          "height": 466
        },
        "id": "L1CJJpvdtxGf",
        "outputId": "4be04bed-1125-40db-e183-a518dec472ef"
      },
      "execution_count": 30,
      "outputs": [
        {
          "output_type": "execute_result",
          "data": {
            "text/plain": [
              "Text(0.5, 0, 'edad')"
            ]
          },
          "metadata": {},
          "execution_count": 30
        },
        {
          "output_type": "display_data",
          "data": {
            "text/plain": [
              "<Figure size 640x480 with 1 Axes>"
            ],
            "image/png": "[encoded data removed]"
          },
          "metadata": {}
        }
      ]
    },
    {
      "cell_type": "markdown",
      "source": [
        "#ACTIVIDAD\n",
        "\n",
        "##1. Calcule las mismas métricas en su propio dataset.\n",
        "##2. Responda las siguientes preguntas.\n",
        "\n",
        "### Sobre Estimaciones de variabilidad\n",
        "1.   Qué significa que la desviación estándar es casi dos veces mayor que la MAD?\n",
        "2. Cómo puedo mejorar esta situación?\n",
        "3. Explique el resultado obtenido al calcular IQR\n",
        "\n",
        "### Sobre exploración en distribución de datos\n",
        "1. Qué información nos suministra los percentiles de tasa de homicidios por estados?\n",
        "2. Explique con sus propias palabras qué ionformación suministra el diagrama de caja con respecto a la tasa de homicidios por estado.\n",
        "3. Cómo podría agregarse los estados que se encuentran en cada uno de los intervalos? Si no sabe la respuesta, complete la tabla de forma manual y postee su respuesta. Interprete los resultados obtenidos.\n",
        "4. Explique el resultado obtenido por el diagrama de dispersión."
      ],
      "metadata": {
        "id": "oP8DgbpB2XyG"
      }
    },
    {
      "cell_type": "markdown",
      "source": [
        "##Sobre Estimadores de variabilidad\n",
        "1. R/ Que los datos probablemente contienen valores extremos que estan inflando la dispersion total medida por la desviacion estandar.\n",
        "\n",
        "2. R/ Para mejorar esta situacion se pueden detectar los outliers para identificar los valores que se desvian de forma considerable del resto de los datos. Otra forma de mejorar esto tambien puede ser el usar metricas mas robustas.\n",
        "\n",
        "3. R/ El resultado del IQR demuestra que la dispersión central de los datos en la columna Population es considerablemente grande.\n",
        "\n",
        "##Sobre exploracion en distribucion de datos\n",
        "\n",
        "1. R/ Los percentiles de la tasa de homicidios por estado nos proporcionan una visión más detallada de la distribución de los datos, permitiendo entender cómo se distribuyen las tasas de homicidios en distintos puntos de la población.\n",
        "\n",
        "*Percentil 5% (1.600): El 5% de los estados tiene una tasa de homicidios menor o igual a 1.600.\n",
        "\n",
        "*Percentil 25% (2.425): El 25% de los estados tiene una tasa de homicidios menor o igual a 2.425\n",
        "\n",
        "*Percentil 50% (4.000): El 50% de los estados tiene una tasa de homicidios menor o igual a 4.000, lo que corresponde a la mediana.\n",
        "\n",
        "*Percentil 75% (5.550): El 75% de los estados tiene una tasa de homicidios menor o igual a 5.550.\n",
        "\n",
        "*Percentil 95% (6.510): El 95% de los estados tiene una tasa de homicidios menor o igual a 6.510.\n",
        "\n",
        "2. R/ El diagrama de caja muestra que la mayoría de los estados tienen poblaciones entre 1 y 10 millones de habitantes, pero hay unos cuantos con poblaciones mucho mayores, lo que genera los outliers en el gráfico.\n",
        "\n",
        "3. R/ analisis=estado.head()\n",
        "g=sns.FacetGrid(analisis,col=\"State\")\n",
        "g.map(sns.distplot,\"Murder.Rate\")\n",
        "Para agregar los estados que se encuentran en cada uno de los intervalos en el codigo estado.head(50) para tener la informacion de todos los estados que se encuentran en la base de datos y asi obtener los estados que se encuentran en cada uno de los intervalos\n",
        "\n",
        "4. R/\n",
        "*La mayoría de los estados (o regiones) tienen tasas de asesinatos relativamente bajas, concentrándose en un rango de entre 2 y 6 asesinatos por cada millón de habitantes.\n",
        "\n",
        "*Hay menos regiones con tasas superiores a 6, lo que se refleja en las barras más bajas hacia la derecha y la disminución de la curva de densidad."
      ],
      "metadata": {
        "id": "yFQvoAIw2Rqw"
      }
    }
  ]
}